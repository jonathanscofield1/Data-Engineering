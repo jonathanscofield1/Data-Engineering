{
 "cells": [
  {
   "cell_type": "markdown",
   "id": "b253e318",
   "metadata": {},
   "source": [
    "# Polars Tutorial and Demonstration\n",
    "> ### Jonathan Scofield\n",
    "#### This notebook will help you set up polars on you computer and query a large CSV file. For more information about Polars, please visit the official [website](https://pola.rs/). <br>\n",
    "#### We will be using real estate sales data from the State of Connecticut for property valued $2K or more from the year 2001 to 2021.\n",
    "#### The data used for this project is in the public domain and is can be found [here](https://catalog.data.gov/dataset/real-estate-sales-2001-2018)."
   ]
  },
  {
   "cell_type": "markdown",
   "id": "cb820a7b",
   "metadata": {},
   "source": [
    "## Setup <br>\n",
    "#### You need to have a version of Python installed equal to or greater than 3.10.\n",
    "#### Use this command to install Polars:\n",
    ">pip install 'polars[all]' "
   ]
  },
  {
   "cell_type": "markdown",
   "id": "37f5fea7",
   "metadata": {},
   "source": [
    "## Scanning a CSV"
   ]
  },
  {
   "cell_type": "markdown",
   "id": "3349a631",
   "metadata": {},
   "source": [
    "#### Import required modules."
   ]
  },
  {
   "cell_type": "code",
   "execution_count": 14,
   "id": "85582ce7",
   "metadata": {},
   "outputs": [],
   "source": [
    "# \"pl\" is the conventional alias for the Polars library\n",
    "import polars as pl\n",
    "import os"
   ]
  },
  {
   "cell_type": "markdown",
   "id": "1e37fdff",
   "metadata": {},
   "source": [
    "#### Let's take a look at the size of the CSV file we want to examine."
   ]
  },
  {
   "cell_type": "code",
   "execution_count": 15,
   "id": "76f92e7a",
   "metadata": {
    "scrolled": true
   },
   "outputs": [
    {
     "data": {
      "text/plain": [
       "'113.24 MB'"
      ]
     },
     "execution_count": 15,
     "metadata": {},
     "output_type": "execute_result"
    }
   ],
   "source": [
    "f\"{round(os.path.getsize('Real_Estate_Sales_2001-2021_GL.csv') / (1024 ** 2), 2)} MB\""
   ]
  },
  {
   "cell_type": "markdown",
   "id": "0a1792b9",
   "metadata": {},
   "source": [
    "#### It is fairly large, so we will scan it to a LazyFrame."
   ]
  },
  {
   "cell_type": "code",
   "execution_count": 16,
   "id": "a3bdbff2",
   "metadata": {},
   "outputs": [],
   "source": [
    "df = pl.scan_csv( #We are scanning, not reading\n",
    "    'Real_Estate_Sales_2001-2021_GL.csv', \n",
    "    ignore_errors = False,   # No crash on error\n",
    "    infer_schema_length = 1000, # Sample size for schema detection\n",
    "    low_memory = True, # Memory > speed\n",
    "    try_parse_dates = True, # Format dates automatically   \n",
    ")"
   ]
  },
  {
   "cell_type": "markdown",
   "id": "b45e887b",
   "metadata": {},
   "source": [
    "#### After scanning, we can see the proposed schema from the given sample size:"
   ]
  },
  {
   "cell_type": "code",
   "execution_count": 17,
   "id": "8854d36f",
   "metadata": {
    "scrolled": true
   },
   "outputs": [
    {
     "data": {
      "text/plain": [
       "{'Serial Number': Int64,\n",
       " 'List Year': Int64,\n",
       " 'Date Recorded': Date,\n",
       " 'Town': Utf8,\n",
       " 'Address': Utf8,\n",
       " 'Assessed Value': Float64,\n",
       " 'Sale Amount': Float64,\n",
       " 'Sales Ratio': Float64,\n",
       " 'Property Type': Utf8,\n",
       " 'Residential Type': Utf8,\n",
       " 'Non Use Code': Utf8,\n",
       " 'Assessor Remarks': Utf8,\n",
       " 'OPM remarks': Utf8,\n",
       " 'Location': Utf8}"
      ]
     },
     "execution_count": 17,
     "metadata": {},
     "output_type": "execute_result"
    }
   ],
   "source": [
    "df.schema # View the inferred schema"
   ]
  },
  {
   "cell_type": "markdown",
   "id": "fff3708e",
   "metadata": {},
   "source": [
    "#### Because this is a LazyFrame, Polars can't return the count of rows."
   ]
  },
  {
   "cell_type": "code",
   "execution_count": 18,
   "id": "40614329",
   "metadata": {
    "scrolled": false
   },
   "outputs": [
    {
     "data": {
      "text/html": [
       "<i>naive plan: (run <b>LazyFrame.explain(optimized=True)</b> to see the optimized plan)</i>\n",
       "    <p></p>\n",
       "    <div> SELECT [count()] FROM<p></p><p></p>    CSV SCAN Real_Estate_Sales_2001-2021_GL.csv<p></p>    PROJECT */14 COLUMNS</div>"
      ],
      "text/plain": [
       "<LazyFrame [1 col, {\"count\": UInt32}] at 0x7FB0105503A0>"
      ]
     },
     "execution_count": 18,
     "metadata": {},
     "output_type": "execute_result"
    }
   ],
   "source": [
    "df.select(pl.count()) # This won't return anything on a LazyFrame"
   ]
  },
  {
   "cell_type": "markdown",
   "id": "fa57d323",
   "metadata": {},
   "source": [
    "## Querying the Data"
   ]
  },
  {
   "cell_type": "markdown",
   "id": "325b198a",
   "metadata": {},
   "source": [
    "#### We can query the data as if it was a SQL database using the following syntax:"
   ]
  },
  {
   "cell_type": "code",
   "execution_count": 19,
   "id": "c9e277ad",
   "metadata": {},
   "outputs": [],
   "source": [
    "select_df = pl.SQLContext(register_globals = True).execute(\n",
    "   ''' \n",
    "   SELECT\n",
    "        *\n",
    "    FROM \n",
    "        df\n",
    "    LIMIT 5\n",
    "    '''\n",
    ")"
   ]
  },
  {
   "cell_type": "markdown",
   "id": "a0b24530",
   "metadata": {},
   "source": [
    "#### To view the data, we must call the **collect()** method."
   ]
  },
  {
   "cell_type": "code",
   "execution_count": 20,
   "id": "a90fb669",
   "metadata": {
    "scrolled": true
   },
   "outputs": [
    {
     "data": {
      "text/html": [
       "<div><style>\n",
       ".dataframe > thead > tr > th,\n",
       ".dataframe > tbody > tr > td {\n",
       "  text-align: right;\n",
       "}\n",
       "</style>\n",
       "<small>shape: (5, 14)</small><table border=\"1\" class=\"dataframe\"><thead><tr><th>Serial Number</th><th>List Year</th><th>Date Recorded</th><th>Town</th><th>Address</th><th>Assessed Value</th><th>Sale Amount</th><th>Sales Ratio</th><th>Property Type</th><th>Residential Type</th><th>Non Use Code</th><th>Assessor Remarks</th><th>OPM remarks</th><th>Location</th></tr><tr><td>i64</td><td>i64</td><td>date</td><td>str</td><td>str</td><td>f64</td><td>f64</td><td>f64</td><td>str</td><td>str</td><td>str</td><td>str</td><td>str</td><td>str</td></tr></thead><tbody><tr><td>2020348</td><td>2020</td><td>null</td><td>&quot;Ansonia&quot;</td><td>&quot;230 WAKELEE AV…</td><td>150500.0</td><td>325000.0</td><td>0.463</td><td>&quot;Commercial&quot;</td><td>null</td><td>null</td><td>null</td><td>null</td><td>null</td></tr><tr><td>20002</td><td>2020</td><td>2020-02-10</td><td>&quot;Ashford&quot;</td><td>&quot;390 TURNPIKE R…</td><td>253000.0</td><td>430000.0</td><td>0.5883</td><td>&quot;Residential&quot;</td><td>&quot;Single Family&quot;</td><td>null</td><td>null</td><td>null</td><td>null</td></tr><tr><td>210317</td><td>2021</td><td>2022-05-07</td><td>&quot;Avon&quot;</td><td>&quot;53 COTSWOLD WA…</td><td>329730.0</td><td>805000.0</td><td>0.4096</td><td>&quot;Residential&quot;</td><td>&quot;Single Family&quot;</td><td>null</td><td>null</td><td>null</td><td>&quot;POINT (-72.846…</td></tr><tr><td>200212</td><td>2020</td><td>2021-09-03</td><td>&quot;Avon&quot;</td><td>&quot;5 CHESTNUT DRI…</td><td>130400.0</td><td>179900.0</td><td>0.7248</td><td>&quot;Residential&quot;</td><td>&quot;Condo&quot;</td><td>null</td><td>null</td><td>null</td><td>null</td></tr><tr><td>200243</td><td>2020</td><td>null</td><td>&quot;Avon&quot;</td><td>&quot;111 NORTHINGTO…</td><td>619290.0</td><td>890000.0</td><td>0.6958</td><td>&quot;Residential&quot;</td><td>&quot;Single Family&quot;</td><td>null</td><td>null</td><td>null</td><td>null</td></tr></tbody></table></div>"
      ],
      "text/plain": [
       "shape: (5, 14)\n",
       "┌────────────┬─────────┬────────────┬─────┬───┬────────────┬────────────┬───────────┬────────┐\n",
       "│ Serial     ┆ List    ┆ Date       ┆ Tow ┆ … ┆ Non Use    ┆ Assessor   ┆ OPM       ┆ Locati │\n",
       "│ Number     ┆ Year    ┆ Recorded   ┆ n   ┆   ┆ Code       ┆ Remarks    ┆ remarks   ┆ on     │\n",
       "│ ---        ┆ ---     ┆ ---        ┆ --- ┆   ┆ ---        ┆ ---        ┆ ---       ┆ ---    │\n",
       "│ i64        ┆ i64     ┆ date       ┆ str ┆   ┆ str        ┆ str        ┆ str       ┆ str    │\n",
       "╞════════════╪═════════╪════════════╪═════╪═══╪════════════╪════════════╪═══════════╪════════╡\n",
       "│ 2020348    ┆ 2020    ┆ null       ┆ Ans ┆ … ┆ null       ┆ null       ┆ null      ┆ null   │\n",
       "│            ┆         ┆            ┆ oni ┆   ┆            ┆            ┆           ┆        │\n",
       "│            ┆         ┆            ┆ a   ┆   ┆            ┆            ┆           ┆        │\n",
       "│ 20002      ┆ 2020    ┆ 2020-02-10 ┆ Ash ┆ … ┆ null       ┆ null       ┆ null      ┆ null   │\n",
       "│            ┆         ┆            ┆ for ┆   ┆            ┆            ┆           ┆        │\n",
       "│            ┆         ┆            ┆ d   ┆   ┆            ┆            ┆           ┆        │\n",
       "│ 210317     ┆ 2021    ┆ 2022-05-07 ┆ Avo ┆ … ┆ null       ┆ null       ┆ null      ┆ POINT  │\n",
       "│            ┆         ┆            ┆ n   ┆   ┆            ┆            ┆           ┆ (-72.8 │\n",
       "│            ┆         ┆            ┆     ┆   ┆            ┆            ┆           ┆ 463659 │\n",
       "│            ┆         ┆            ┆     ┆   ┆            ┆            ┆           ┆ 59 41. │\n",
       "│            ┆         ┆            ┆     ┆   ┆            ┆            ┆           ┆ 781677 │\n",
       "│            ┆         ┆            ┆     ┆   ┆            ┆            ┆           ┆ 01…    │\n",
       "│ 200212     ┆ 2020    ┆ 2021-09-03 ┆ Avo ┆ … ┆ null       ┆ null       ┆ null      ┆ null   │\n",
       "│            ┆         ┆            ┆ n   ┆   ┆            ┆            ┆           ┆        │\n",
       "│ 200243     ┆ 2020    ┆ null       ┆ Avo ┆ … ┆ null       ┆ null       ┆ null      ┆ null   │\n",
       "│            ┆         ┆            ┆ n   ┆   ┆            ┆            ┆           ┆        │\n",
       "└────────────┴─────────┴────────────┴─────┴───┴────────────┴────────────┴───────────┴────────┘"
      ]
     },
     "execution_count": 20,
     "metadata": {},
     "output_type": "execute_result"
    }
   ],
   "source": [
    "head_df = select_df.collect(streaming = True) # Perform query and load into memory\n",
    "head_df"
   ]
  },
  {
   "cell_type": "markdown",
   "id": "f8b4ce83",
   "metadata": {},
   "source": [
    "#### Once a LazyFrame has been collected, we can access the data."
   ]
  },
  {
   "cell_type": "code",
   "execution_count": 21,
   "id": "c371cb2e",
   "metadata": {
    "scrolled": true
   },
   "outputs": [
    {
     "data": {
      "text/html": [
       "<div><style>\n",
       ".dataframe > thead > tr > th,\n",
       ".dataframe > tbody > tr > td {\n",
       "  text-align: right;\n",
       "}\n",
       "</style>\n",
       "<small>shape: (1, 1)</small><table border=\"1\" class=\"dataframe\"><thead><tr><th>count</th></tr><tr><td>u32</td></tr></thead><tbody><tr><td>5</td></tr></tbody></table></div>"
      ],
      "text/plain": [
       "shape: (1, 1)\n",
       "┌───────┐\n",
       "│ count │\n",
       "│ ---   │\n",
       "│ u32   │\n",
       "╞═══════╡\n",
       "│ 5     │\n",
       "└───────┘"
      ]
     },
     "execution_count": 21,
     "metadata": {},
     "output_type": "execute_result"
    }
   ],
   "source": [
    "head_df.select(pl.count()) # Count number of rows"
   ]
  },
  {
   "cell_type": "markdown",
   "id": "cd867b85",
   "metadata": {},
   "source": [
    "#### We can perform most basic SQL queries on the data. Let's try some string manipulation:"
   ]
  },
  {
   "cell_type": "code",
   "execution_count": 22,
   "id": "c52d02a5",
   "metadata": {
    "scrolled": false
   },
   "outputs": [
    {
     "data": {
      "text/html": [
       "<div><style>\n",
       ".dataframe > thead > tr > th,\n",
       ".dataframe > tbody > tr > td {\n",
       "  text-align: right;\n",
       "}\n",
       "</style>\n",
       "<small>shape: (5, 4)</small><table border=\"1\" class=\"dataframe\"><thead><tr><th>Town</th><th>Residential Type</th><th>New Column</th><th>Assessed Value</th></tr><tr><td>str</td><td>str</td><td>str</td><td>f64</td></tr></thead><tbody><tr><td>&quot;New Canaan&quot;</td><td>&quot;Condo&quot;</td><td>&quot;NEW CANAAN-CON…</td><td>3.791354e7</td></tr><tr><td>&quot;New Canaan&quot;</td><td>&quot;Condo&quot;</td><td>&quot;NEW CANAAN-CON…</td><td>3.791354e7</td></tr><tr><td>&quot;New Canaan&quot;</td><td>&quot;Condo&quot;</td><td>&quot;NEW CANAAN-CON…</td><td>3.791354e7</td></tr><tr><td>&quot;Darien&quot;</td><td>&quot;Single Family&quot;</td><td>&quot;DARIEN-SINGLE …</td><td>3.50301e7</td></tr><tr><td>&quot;Darien&quot;</td><td>&quot;Single Family&quot;</td><td>&quot;DARIEN-SINGLE …</td><td>3.50301e7</td></tr></tbody></table></div>"
      ],
      "text/plain": [
       "shape: (5, 4)\n",
       "┌────────────┬──────────────────┬──────────────────────┬────────────────┐\n",
       "│ Town       ┆ Residential Type ┆ New Column           ┆ Assessed Value │\n",
       "│ ---        ┆ ---              ┆ ---                  ┆ ---            │\n",
       "│ str        ┆ str              ┆ str                  ┆ f64            │\n",
       "╞════════════╪══════════════════╪══════════════════════╪════════════════╡\n",
       "│ New Canaan ┆ Condo            ┆ NEW CANAAN-CONDO     ┆ 3.791354e7     │\n",
       "│ New Canaan ┆ Condo            ┆ NEW CANAAN-CONDO     ┆ 3.791354e7     │\n",
       "│ New Canaan ┆ Condo            ┆ NEW CANAAN-CONDO     ┆ 3.791354e7     │\n",
       "│ Darien     ┆ Single Family    ┆ DARIEN-SINGLE FAMILY ┆ 3.50301e7      │\n",
       "│ Darien     ┆ Single Family    ┆ DARIEN-SINGLE FAMILY ┆ 3.50301e7      │\n",
       "└────────────┴──────────────────┴──────────────────────┴────────────────┘"
      ]
     },
     "execution_count": 22,
     "metadata": {},
     "output_type": "execute_result"
    }
   ],
   "source": [
    "concat_df = pl.SQLContext(register_globals = True).execute(\n",
    "   ''' \n",
    "   SELECT\n",
    "       \"Town\",\n",
    "       \"Residential Type\",\n",
    "       upper(trim(\"Town\")) + '-' + upper(trim(\"Residential Type\")) as \"New Column\",\n",
    "       \"Assessed Value\"\n",
    "    FROM \n",
    "        df\n",
    "    WHERE \n",
    "        \"List Year\" = 2021 AND \n",
    "        \"Assessed Value\" > 1000000 \n",
    "        AND \"Residential Type\" IS NOT NULL\n",
    "    ORDER BY \n",
    "        \"Assessed Value\" DESC\n",
    "   LIMIT 5\n",
    "    '''\n",
    ").collect(streaming = True)\n",
    "concat_df"
   ]
  },
  {
   "cell_type": "code",
   "execution_count": 23,
   "id": "14f7e8b6",
   "metadata": {
    "scrolled": true
   },
   "outputs": [
    {
     "data": {
      "text/html": [
       "<div><style>\n",
       ".dataframe > thead > tr > th,\n",
       ".dataframe > tbody > tr > td {\n",
       "  text-align: right;\n",
       "}\n",
       "</style>\n",
       "<small>shape: (10, 3)</small><table border=\"1\" class=\"dataframe\"><thead><tr><th>Town</th><th>Property Type</th><th>Total Assessed Value</th></tr><tr><td>str</td><td>str</td><td>f64</td></tr></thead><tbody><tr><td>&quot;BRIDGEPORT&quot;</td><td>&quot;COMMERCIAL&quot;</td><td>7.6099608e8</td></tr><tr><td>&quot;STAMFORD&quot;</td><td>&quot;RESIDENTIAL&quot;</td><td>7.4672812e8</td></tr><tr><td>&quot;WESTPORT&quot;</td><td>&quot;RESIDENTIAL&quot;</td><td>6.27301505e8</td></tr><tr><td>&quot;STAMFORD&quot;</td><td>&quot;COMMERCIAL&quot;</td><td>6.08599591e8</td></tr><tr><td>&quot;NORWALK&quot;</td><td>&quot;RESIDENTIAL&quot;</td><td>5.71108576e8</td></tr><tr><td>&quot;NEW CANAAN&quot;</td><td>&quot;RESIDENTIAL&quot;</td><td>5.535687e8</td></tr><tr><td>&quot;FAIRFIELD&quot;</td><td>&quot;RESIDENTIAL&quot;</td><td>5.170931e8</td></tr><tr><td>&quot;DARIEN&quot;</td><td>&quot;RESIDENTIAL&quot;</td><td>4.9873546e8</td></tr><tr><td>&quot;STAMFORD&quot;</td><td>&quot;APARTMENTS&quot;</td><td>3.0715507e8</td></tr><tr><td>&quot;RIDGEFIELD&quot;</td><td>&quot;RESIDENTIAL&quot;</td><td>2.83663737e8</td></tr></tbody></table></div>"
      ],
      "text/plain": [
       "shape: (10, 3)\n",
       "┌────────────┬───────────────┬──────────────────────┐\n",
       "│ Town       ┆ Property Type ┆ Total Assessed Value │\n",
       "│ ---        ┆ ---           ┆ ---                  │\n",
       "│ str        ┆ str           ┆ f64                  │\n",
       "╞════════════╪═══════════════╪══════════════════════╡\n",
       "│ BRIDGEPORT ┆ COMMERCIAL    ┆ 7.6099608e8          │\n",
       "│ STAMFORD   ┆ RESIDENTIAL   ┆ 7.4672812e8          │\n",
       "│ WESTPORT   ┆ RESIDENTIAL   ┆ 6.27301505e8         │\n",
       "│ STAMFORD   ┆ COMMERCIAL    ┆ 6.08599591e8         │\n",
       "│ …          ┆ …             ┆ …                    │\n",
       "│ FAIRFIELD  ┆ RESIDENTIAL   ┆ 5.170931e8           │\n",
       "│ DARIEN     ┆ RESIDENTIAL   ┆ 4.9873546e8          │\n",
       "│ STAMFORD   ┆ APARTMENTS    ┆ 3.0715507e8          │\n",
       "│ RIDGEFIELD ┆ RESIDENTIAL   ┆ 2.83663737e8         │\n",
       "└────────────┴───────────────┴──────────────────────┘"
      ]
     },
     "execution_count": 23,
     "metadata": {},
     "output_type": "execute_result"
    }
   ],
   "source": [
    "total_value_df = pl.SQLContext(register_globals = True).execute(\n",
    "   ''' \n",
    "   SELECT\n",
    "       UPPER(TRIM(\"Town\")),\n",
    "       UPPER(TRIM(\"Property Type\")),\n",
    "       SUM(\"Assessed Value\") AS \"Total Assessed Value\"\n",
    "    FROM \n",
    "        df\n",
    "    WHERE \n",
    "        \"List Year\" = 2021 AND \n",
    "        \"Town\" IS NOT NULL AND\n",
    "        \"Property Type\" IS NOT NULL\n",
    "    GROUP BY \n",
    "        \"Town\", \n",
    "        \"Property Type\"\n",
    "    ORDER BY\n",
    "       \"Total Assessed Value\" DESC,\n",
    "    LIMIT 10\n",
    "    '''\n",
    ").collect(streaming = True)\n",
    "total_value_df"
   ]
  },
  {
   "cell_type": "code",
   "execution_count": 24,
   "id": "e543ccc7",
   "metadata": {},
   "outputs": [
    {
     "data": {
      "text/html": [
       "<div><style>\n",
       ".dataframe > thead > tr > th,\n",
       ".dataframe > tbody > tr > td {\n",
       "  text-align: right;\n",
       "}\n",
       "</style>\n",
       "<small>shape: (1, 3)</small><table border=\"1\" class=\"dataframe\"><thead><tr><th>Town</th><th>Address</th><th>Premium</th></tr><tr><td>str</td><td>str</td><td>f64</td></tr></thead><tbody><tr><td>&quot;STAMFORD&quot;</td><td>&quot;695 EAST MAIN …</td><td>2.091e8</td></tr></tbody></table></div>"
      ],
      "text/plain": [
       "shape: (1, 3)\n",
       "┌──────────┬──────────────────────┬─────────┐\n",
       "│ Town     ┆ Address              ┆ Premium │\n",
       "│ ---      ┆ ---                  ┆ ---     │\n",
       "│ str      ┆ str                  ┆ f64     │\n",
       "╞══════════╪══════════════════════╪═════════╡\n",
       "│ STAMFORD ┆ 695 EAST MAIN STREET ┆ 2.091e8 │\n",
       "└──────────┴──────────────────────┴─────────┘"
      ]
     },
     "execution_count": 24,
     "metadata": {},
     "output_type": "execute_result"
    }
   ],
   "source": [
    "best_premium_df = pl.SQLContext(register_globals = True).execute(\n",
    "   ''' \n",
    "   SELECT\n",
    "        TRIM(UPPER(\"Town\")),\n",
    "        \"Address\",\n",
    "       (\"Sale Amount\" - \"Assessed Value\") AS \"Premium\"\n",
    "    FROM \n",
    "        df\n",
    "    WHERE \n",
    "        \"List Year\" = 2021 AND \n",
    "        \"Town\" IS NOT NULL\n",
    "    ORDER BY\n",
    "       \"Premium\" DESC\n",
    "    LIMIT 1\n",
    "    '''\n",
    ").collect(streaming = True)\n",
    "best_premium_df"
   ]
  },
  {
   "cell_type": "markdown",
   "id": "d8885514",
   "metadata": {},
   "source": [
    "## Writing Data"
   ]
  },
  {
   "cell_type": "markdown",
   "id": "0048bd0f",
   "metadata": {},
   "source": [
    "#### Since we usually use Polars when dealing with large files, it can be helpful to use it to compress data into smaller files."
   ]
  },
  {
   "cell_type": "markdown",
   "id": "20156407",
   "metadata": {},
   "source": [
    "#### Here is how to compress the CSV file into a parquet file:"
   ]
  },
  {
   "cell_type": "code",
   "execution_count": 25,
   "id": "cfef7681",
   "metadata": {},
   "outputs": [],
   "source": [
    "df.collect(streaming = True).write_parquet('Real_Estate_Sales_2001-2021_GL.parquet')"
   ]
  },
  {
   "cell_type": "markdown",
   "id": "7fc2849e",
   "metadata": {},
   "source": [
    "#### Finally, we can check the size of the parquet file to compare:"
   ]
  },
  {
   "cell_type": "code",
   "execution_count": 26,
   "id": "591af8df",
   "metadata": {},
   "outputs": [
    {
     "data": {
      "text/plain": [
       "'33.52 MB'"
      ]
     },
     "execution_count": 26,
     "metadata": {},
     "output_type": "execute_result"
    }
   ],
   "source": [
    "f\"{round(os.path.getsize('Real_Estate_Sales_2001-2021_GL.parquet') / (1024 ** 2), 2)} MB\""
   ]
  }
 ],
 "metadata": {
  "kernelspec": {
   "display_name": "Python 3",
   "language": "python",
   "name": "python3"
  },
  "language_info": {
   "codemirror_mode": {
    "name": "ipython",
    "version": 3
   },
   "file_extension": ".py",
   "mimetype": "text/x-python",
   "name": "python",
   "nbconvert_exporter": "python",
   "pygments_lexer": "ipython3",
   "version": "3.8.8"
  }
 },
 "nbformat": 4,
 "nbformat_minor": 5
}
